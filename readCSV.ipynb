{
 "cells": [
  {
   "cell_type": "code",
   "execution_count": 1,
   "metadata": {},
   "outputs": [],
   "source": [
    "import numpy as np\n",
    "import matplotlib.pyplot as plt"
   ]
  },
  {
   "cell_type": "code",
   "execution_count": 2,
   "metadata": {},
   "outputs": [
    {
     "name": "stdout",
     "output_type": "stream",
     "text": [
      "[[8.4230200e+05 0.0000000e+00 1.7990000e+01 1.0380000e+01 1.2280000e+02\n",
      "  1.0010000e+03 1.1840000e-01 2.7760000e-01 3.0010000e-01 1.4710000e-01]\n",
      " [8.4251700e+05 1.0000000e+00 2.0570000e+01 1.7770000e+01 1.3290000e+02\n",
      "  1.3260000e+03 8.4740000e-02 7.8640000e-02 8.6900000e-02 7.0170000e-02]\n",
      " [8.4300903e+07 1.0000000e+00 1.9690000e+01 2.1250000e+01 1.3000000e+02\n",
      "  1.2030000e+03 1.0960000e-01 1.5990000e-01 1.9740000e-01 1.2790000e-01]\n",
      " [8.4348301e+07 0.0000000e+00 1.1420000e+01 2.0380000e+01 7.7580000e+01\n",
      "  3.8610000e+02 1.4250000e-01 2.8390000e-01 2.4140000e-01 1.0520000e-01]\n",
      " [8.4358402e+07 1.0000000e+00 2.0290000e+01 1.4340000e+01 1.3510000e+02\n",
      "  1.2970000e+03 1.0030000e-01 1.3280000e-01 1.9800000e-01 1.0430000e-01]\n",
      " [8.4378600e+05 1.0000000e+00 2.4500000e+00 1.5700000e+01 8.2570000e+01\n",
      "  4.7710000e+02 1.2780000e-01 1.7000000e-01 1.5780000e-01 8.0890000e-02]\n",
      " [8.4435900e+05 1.0000000e+00 1.8250000e+01 1.9980000e+01 1.1960000e+02\n",
      "  1.0400000e+03 9.4630000e-02 1.0900000e-01 1.1270000e-01 7.4000000e-02]\n",
      " [8.4458202e+07 0.0000000e+00 1.3710000e+01 2.0830000e+01 9.0200000e+01\n",
      "  5.7790000e+02 1.1890000e-01 1.6450000e-01 9.3660000e-02 5.9850000e-02]\n",
      " [8.4498100e+05 1.0000000e+00 1.3000000e+01 2.1820000e+01 8.7500000e+01\n",
      "  5.1980000e+02 1.2730000e-01 1.9320000e-01 1.8590000e-01 9.3530000e-02]]\n"
     ]
    }
   ],
   "source": [
    "data = np.genfromtxt('test.csv', delimiter=',')\n",
    "data = data[~np.isnan(data).any(axis=1)]\n",
    "print data"
   ]
  },
  {
   "cell_type": "code",
   "execution_count": 3,
   "metadata": {},
   "outputs": [],
   "source": [
    "# Removing the id colummn\n",
    "data = data[:, 1:]"
   ]
  },
  {
   "cell_type": "code",
   "execution_count": 4,
   "metadata": {},
   "outputs": [
    {
     "name": "stdout",
     "output_type": "stream",
     "text": [
      "max vals [1.000e+00 2.057e+01 2.182e+01 1.351e+02 1.326e+03 1.425e-01 2.839e-01\n",
      " 3.001e-01 1.471e-01]\n",
      "max vals [1.000e+00 2.057e+01 2.182e+01 1.351e+02 1.326e+03 1.425e-01 2.839e-01\n",
      " 3.001e-01 1.471e-01]\n",
      "[[0.         0.87457462 0.47571036 0.90895633 0.75490196 0.83087719\n",
      "  0.97780909 1.         1.        ]\n",
      " [1.         1.         0.81439047 0.98371577 1.         0.59466667\n",
      "  0.27699894 0.28957014 0.47702243]\n",
      " [1.         0.95721925 0.97387718 0.96225019 0.90723982 0.76912281\n",
      "  0.56322649 0.65778074 0.86947655]\n",
      " [0.         0.55517744 0.9340055  0.5742413  0.29117647 1.\n",
      "  1.         0.80439853 0.71515976]\n",
      " [1.         0.98638794 0.65719523 1.         0.97812971 0.70385965\n",
      "  0.46777034 0.65978007 0.70904147]\n",
      " [1.         0.11910549 0.71952337 0.61117691 0.35980392 0.89684211\n",
      "  0.5988024  0.52582473 0.54989803]\n",
      " [1.         0.88721439 0.91567369 0.88527017 0.78431373 0.66407018\n",
      "  0.38393801 0.37554149 0.50305914]\n",
      " [0.         0.66650462 0.95462878 0.66765359 0.43582202 0.83438596\n",
      "  0.57942938 0.31209597 0.40686608]\n",
      " [1.         0.63198833 1.         0.64766839 0.39200603 0.89333333\n",
      "  0.68052131 0.61946018 0.63582597]]\n"
     ]
    }
   ],
   "source": [
    "# Normalize the data\n",
    "maxVals = data.max(axis=0)\n",
    "print \"max vals\", maxVals\n",
    "maxVals[maxVals == 0] = 1\n",
    "print \"max vals\", maxVals\n",
    "data = data / maxVals\n",
    "print data"
   ]
  },
  {
   "cell_type": "code",
   "execution_count": 5,
   "metadata": {},
   "outputs": [],
   "source": [
    "ipData = data[:, 1:]\n",
    "opData = data[:, 0]"
   ]
  },
  {
   "cell_type": "code",
   "execution_count": 6,
   "metadata": {},
   "outputs": [
    {
     "data": {
      "text/plain": [
       "array([[0.87457462, 0.47571036, 0.90895633, 0.75490196, 0.83087719,\n",
       "        0.97780909, 1.        , 1.        ],\n",
       "       [1.        , 0.81439047, 0.98371577, 1.        , 0.59466667,\n",
       "        0.27699894, 0.28957014, 0.47702243],\n",
       "       [0.95721925, 0.97387718, 0.96225019, 0.90723982, 0.76912281,\n",
       "        0.56322649, 0.65778074, 0.86947655],\n",
       "       [0.55517744, 0.9340055 , 0.5742413 , 0.29117647, 1.        ,\n",
       "        1.        , 0.80439853, 0.71515976],\n",
       "       [0.98638794, 0.65719523, 1.        , 0.97812971, 0.70385965,\n",
       "        0.46777034, 0.65978007, 0.70904147],\n",
       "       [0.11910549, 0.71952337, 0.61117691, 0.35980392, 0.89684211,\n",
       "        0.5988024 , 0.52582473, 0.54989803],\n",
       "       [0.88721439, 0.91567369, 0.88527017, 0.78431373, 0.66407018,\n",
       "        0.38393801, 0.37554149, 0.50305914],\n",
       "       [0.66650462, 0.95462878, 0.66765359, 0.43582202, 0.83438596,\n",
       "        0.57942938, 0.31209597, 0.40686608],\n",
       "       [0.63198833, 1.        , 0.64766839, 0.39200603, 0.89333333,\n",
       "        0.68052131, 0.61946018, 0.63582597]])"
      ]
     },
     "execution_count": 6,
     "metadata": {},
     "output_type": "execute_result"
    }
   ],
   "source": [
    "ipData"
   ]
  },
  {
   "cell_type": "code",
   "execution_count": 7,
   "metadata": {},
   "outputs": [
    {
     "data": {
      "text/plain": [
       "array([0., 1., 1., 0., 1., 1., 1., 0., 1.])"
      ]
     },
     "execution_count": 7,
     "metadata": {},
     "output_type": "execute_result"
    }
   ],
   "source": [
    "opData"
   ]
  },
  {
   "cell_type": "code",
   "execution_count": 8,
   "metadata": {},
   "outputs": [
    {
     "data": {
      "text/plain": [
       "(9, 8)"
      ]
     },
     "execution_count": 8,
     "metadata": {},
     "output_type": "execute_result"
    }
   ],
   "source": [
    "ipData.shape"
   ]
  },
  {
   "cell_type": "code",
   "execution_count": 9,
   "metadata": {},
   "outputs": [
    {
     "data": {
      "text/plain": [
       "(9,)"
      ]
     },
     "execution_count": 9,
     "metadata": {},
     "output_type": "execute_result"
    }
   ],
   "source": [
    "opData.shape"
   ]
  },
  {
   "cell_type": "code",
   "execution_count": 10,
   "metadata": {},
   "outputs": [
    {
     "name": "stdout",
     "output_type": "stream",
     "text": [
      "6.75\n",
      "7\n",
      "<type 'int'>\n"
     ]
    }
   ],
   "source": [
    "trainingPercent = 75\n",
    "trainingFraction = 9 * 75 /100.0\n",
    "print trainingFraction\n",
    "trainingFraction = int(round(trainingFraction))\n",
    "print trainingFraction\n",
    "print type(trainingFraction)"
   ]
  },
  {
   "cell_type": "code",
   "execution_count": 11,
   "metadata": {},
   "outputs": [],
   "source": [
    "traingInput = ipData[ 0: trainingFraction , :]\n",
    "triningOp = opData[0 : trainingFraction]\n",
    "testingInput = ipData[trainingFraction: , :]\n",
    "testingOp = opData[trainingFraction:]"
   ]
  },
  {
   "cell_type": "code",
   "execution_count": 12,
   "metadata": {},
   "outputs": [
    {
     "name": "stdout",
     "output_type": "stream",
     "text": [
      "(7, 8)\n",
      "(7,)\n",
      "(2, 8)\n",
      "(2,)\n"
     ]
    }
   ],
   "source": [
    "print traingInput.shape\n",
    "print triningOp.shape\n",
    "print testingInput.shape\n",
    "print testingOp.shape"
   ]
  },
  {
   "cell_type": "code",
   "execution_count": 13,
   "metadata": {},
   "outputs": [],
   "source": [
    "import sklearn as skl\n",
    "from sklearn.model_selection import train_test_split"
   ]
  },
  {
   "cell_type": "code",
   "execution_count": 14,
   "metadata": {},
   "outputs": [
    {
     "name": "stderr",
     "output_type": "stream",
     "text": [
      "/Users/subhasis/Desktop/devv/myenv/lib/python2.7/site-packages/sklearn/model_selection/_split.py:2178: FutureWarning: From version 0.21, test_size will always complement train_size unless both are specified.\n",
      "  FutureWarning)\n"
     ]
    }
   ],
   "source": [
    "ip_train, ip_test, op_train, op_test = train_test_split(ipData, opData, train_size=0.75, shuffle=False)"
   ]
  },
  {
   "cell_type": "code",
   "execution_count": 15,
   "metadata": {},
   "outputs": [
    {
     "name": "stdout",
     "output_type": "stream",
     "text": [
      "(6, 8)\n",
      "(6,)\n",
      "(3, 8)\n",
      "(3,)\n"
     ]
    }
   ],
   "source": [
    "print ip_train.shape\n",
    "print op_train.shape\n",
    "print ip_test.shape\n",
    "print op_test.shape"
   ]
  },
  {
   "cell_type": "code",
   "execution_count": 16,
   "metadata": {},
   "outputs": [],
   "source": [
    "# Demonstration of normalizing data"
   ]
  },
  {
   "cell_type": "code",
   "execution_count": 17,
   "metadata": {},
   "outputs": [
    {
     "name": "stdout",
     "output_type": "stream",
     "text": [
      "[[0. 2. 3. 4.]\n",
      " [0. 6. 7. 8.]\n",
      " [0. 4. 6. 8.]]\n"
     ]
    }
   ],
   "source": [
    "arr = np.array([[0,2,3,4], [0,6,7,8], [0,4,6,8]], dtype='float')\n",
    "print arr"
   ]
  },
  {
   "cell_type": "code",
   "execution_count": 18,
   "metadata": {},
   "outputs": [
    {
     "name": "stdout",
     "output_type": "stream",
     "text": [
      "[1. 6. 7. 8.]\n"
     ]
    }
   ],
   "source": [
    "maxVals = arr.max(axis=0)\n",
    "maxVals[maxVals == 0] = 1\n",
    "print maxVals"
   ]
  },
  {
   "cell_type": "code",
   "execution_count": 19,
   "metadata": {},
   "outputs": [
    {
     "name": "stdout",
     "output_type": "stream",
     "text": [
      "[[0.         0.33333333 0.42857143 0.5       ]\n",
      " [0.         1.         1.         1.        ]\n",
      " [0.         0.66666667 0.85714286 1.        ]]\n"
     ]
    }
   ],
   "source": [
    "arr = arr/ maxVals\n",
    "print arr"
   ]
  },
  {
   "cell_type": "code",
   "execution_count": null,
   "metadata": {},
   "outputs": [],
   "source": []
  },
  {
   "cell_type": "code",
   "execution_count": null,
   "metadata": {},
   "outputs": [],
   "source": []
  },
  {
   "cell_type": "code",
   "execution_count": null,
   "metadata": {},
   "outputs": [],
   "source": []
  }
 ],
 "metadata": {
  "kernelspec": {
   "display_name": "Python 2",
   "language": "python",
   "name": "python2"
  },
  "language_info": {
   "codemirror_mode": {
    "name": "ipython",
    "version": 2
   },
   "file_extension": ".py",
   "mimetype": "text/x-python",
   "name": "python",
   "nbconvert_exporter": "python",
   "pygments_lexer": "ipython2",
   "version": "2.7.16"
  }
 },
 "nbformat": 4,
 "nbformat_minor": 2
}
