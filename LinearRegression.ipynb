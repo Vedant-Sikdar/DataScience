{
 "cells": [
  {
   "cell_type": "code",
   "execution_count": 1,
   "metadata": {},
   "outputs": [],
   "source": [
    "import numpy as np"
   ]
  },
  {
   "cell_type": "code",
   "execution_count": 2,
   "metadata": {},
   "outputs": [],
   "source": [
    "from sklearn import linear_model"
   ]
  },
  {
   "cell_type": "code",
   "execution_count": 3,
   "metadata": {},
   "outputs": [],
   "source": [
    "import sklearn\n",
    "from sklearn.model_selection import train_test_split\n",
    "import matplotlib.pyplot as plt"
   ]
  },
  {
   "cell_type": "code",
   "execution_count": 4,
   "metadata": {},
   "outputs": [],
   "source": [
    "data = np.genfromtxt('./AdmissionPredict.csv', delimiter=',')"
   ]
  },
  {
   "cell_type": "code",
   "execution_count": 5,
   "metadata": {},
   "outputs": [],
   "source": [
    "data = data[1:, 1:]"
   ]
  },
  {
   "cell_type": "code",
   "execution_count": 6,
   "metadata": {},
   "outputs": [
    {
     "data": {
      "text/plain": [
       "array([[337.  , 118.  ,   4.  , ...,   9.65,   1.  ,   0.92],\n",
       "       [324.  , 107.  ,   4.  , ...,   8.87,   1.  ,   0.76],\n",
       "       [316.  , 104.  ,   3.  , ...,   8.  ,   1.  ,   0.72],\n",
       "       ...,\n",
       "       [330.  , 116.  ,   4.  , ...,   9.45,   1.  ,   0.91],\n",
       "       [312.  , 103.  ,   3.  , ...,   8.78,   0.  ,   0.67],\n",
       "       [333.  , 117.  ,   4.  , ...,   9.66,   1.  ,   0.95]])"
      ]
     },
     "execution_count": 6,
     "metadata": {},
     "output_type": "execute_result"
    }
   ],
   "source": [
    "data"
   ]
  },
  {
   "cell_type": "code",
   "execution_count": 7,
   "metadata": {},
   "outputs": [],
   "source": [
    "opData = data[:, -1]"
   ]
  },
  {
   "cell_type": "code",
   "execution_count": 8,
   "metadata": {},
   "outputs": [
    {
     "data": {
      "text/plain": [
       "(400,)"
      ]
     },
     "execution_count": 8,
     "metadata": {},
     "output_type": "execute_result"
    }
   ],
   "source": [
    "opData.shape"
   ]
  },
  {
   "cell_type": "code",
   "execution_count": 9,
   "metadata": {},
   "outputs": [
    {
     "data": {
      "text/plain": [
       "(400, 7)"
      ]
     },
     "execution_count": 9,
     "metadata": {},
     "output_type": "execute_result"
    }
   ],
   "source": [
    "ipData = data[:, 0:-1]\n",
    "ipData.shape"
   ]
  },
  {
   "cell_type": "code",
   "execution_count": 10,
   "metadata": {},
   "outputs": [],
   "source": [
    "ipTrain, ipTest, opTrain, opTest = train_test_split(ipData, opData, test_size=0.2, shuffle=True)"
   ]
  },
  {
   "cell_type": "code",
   "execution_count": 11,
   "metadata": {},
   "outputs": [],
   "source": [
    "model = linear_model.LinearRegression()"
   ]
  },
  {
   "cell_type": "code",
   "execution_count": 12,
   "metadata": {},
   "outputs": [
    {
     "data": {
      "text/plain": [
       "LinearRegression(copy_X=True, fit_intercept=True, n_jobs=None,\n",
       "         normalize=False)"
      ]
     },
     "execution_count": 12,
     "metadata": {},
     "output_type": "execute_result"
    }
   ],
   "source": [
    "model.fit(ipTrain, opTrain)"
   ]
  },
  {
   "cell_type": "code",
   "execution_count": 13,
   "metadata": {},
   "outputs": [],
   "source": [
    "opPred = model.predict(ipTest)"
   ]
  },
  {
   "cell_type": "code",
   "execution_count": 14,
   "metadata": {},
   "outputs": [
    {
     "data": {
      "text/plain": [
       "array([0.72730424, 0.86115765, 0.88548933, 0.68644294, 0.73524789,\n",
       "       0.67339935, 0.69338662, 0.62520096, 0.90355544, 0.65634183,\n",
       "       0.42199937, 0.92705299, 0.86329619, 0.66803889, 0.85094427,\n",
       "       0.70647174, 0.68408233, 0.56936959, 0.61041058, 0.82302543,\n",
       "       0.65742747, 0.70261255, 0.98126826, 0.77855947, 0.81484707,\n",
       "       0.78440493, 0.65850385, 0.65366158, 0.66656615, 0.70424748,\n",
       "       0.67798619, 0.73452514, 0.77004351, 0.78459554, 0.86845941,\n",
       "       0.64812541, 0.68974731, 0.5424801 , 0.59834172, 0.7631314 ,\n",
       "       0.85489779, 0.8051008 , 0.5314518 , 0.74938351, 0.63280781,\n",
       "       0.58346791, 0.70323115, 0.77875423, 0.80863497, 0.67771707,\n",
       "       0.54250759, 0.60768068, 0.96898241, 0.86004824, 0.65057751,\n",
       "       0.85926296, 0.60385283, 0.44654169, 0.57159514, 0.57901666,\n",
       "       0.73549792, 0.77331495, 0.92620525, 0.8983179 , 0.8387799 ,\n",
       "       0.80875448, 0.80542703, 0.72876084, 0.67829992, 0.70543741,\n",
       "       0.58209672, 0.68005397, 0.58900174, 0.60826896, 0.71448085,\n",
       "       0.75384204, 0.72730022, 0.62882512, 0.70711846, 0.63429224])"
      ]
     },
     "execution_count": 14,
     "metadata": {},
     "output_type": "execute_result"
    }
   ],
   "source": [
    "opPred"
   ]
  },
  {
   "cell_type": "code",
   "execution_count": 15,
   "metadata": {},
   "outputs": [
    {
     "data": {
      "text/plain": [
       "array([0.71, 0.85, 0.92, 0.7 , 0.57, 0.76, 0.67, 0.62, 0.9 , 0.64, 0.36,\n",
       "       0.95, 0.88, 0.71, 0.83, 0.76, 0.57, 0.42, 0.62, 0.86, 0.72, 0.78,\n",
       "       0.97, 0.78, 0.87, 0.8 , 0.64, 0.7 , 0.56, 0.77, 0.74, 0.52, 0.76,\n",
       "       0.61, 0.89, 0.62, 0.63, 0.7 , 0.67, 0.8 , 0.89, 0.82, 0.44, 0.76,\n",
       "       0.56, 0.48, 0.75, 0.81, 0.76, 0.71, 0.64, 0.65, 0.95, 0.88, 0.5 ,\n",
       "       0.86, 0.65, 0.46, 0.68, 0.58, 0.8 , 0.74, 0.89, 0.93, 0.84, 0.84,\n",
       "       0.8 , 0.71, 0.76, 0.65, 0.44, 0.61, 0.65, 0.64, 0.71, 0.76, 0.73,\n",
       "       0.64, 0.72, 0.72])"
      ]
     },
     "execution_count": 15,
     "metadata": {},
     "output_type": "execute_result"
    }
   ],
   "source": [
    "opTest"
   ]
  },
  {
   "cell_type": "code",
   "execution_count": 16,
   "metadata": {},
   "outputs": [
    {
     "data": {
      "text/plain": [
       "0.004619363836186651"
      ]
     },
     "execution_count": 16,
     "metadata": {},
     "output_type": "execute_result"
    }
   ],
   "source": [
    "sklearn.metrics.mean_squared_error(opTest, opPred)"
   ]
  },
  {
   "cell_type": "code",
   "execution_count": 17,
   "metadata": {},
   "outputs": [
    {
     "data": {
      "text/plain": [
       "[<matplotlib.lines.Line2D at 0x1264f4b10>]"
      ]
     },
     "execution_count": 17,
     "metadata": {},
     "output_type": "execute_result"
    },
    {
     "data": {
      "image/png": "[encoded data removed]",
      "text/plain": [
       "<Figure size 432x288 with 1 Axes>"
      ]
     },
     "metadata": {
      "needs_background": "light"
     },
     "output_type": "display_data"
    }
   ],
   "source": [
    "plt.plot(opPred, '.r')\n",
    "plt.plot(opTest, '.g')"
   ]
  },
  {
   "cell_type": "code",
   "execution_count": 20,
   "metadata": {},
   "outputs": [
    {
     "data": {
      "text/plain": [
       "<BarContainer object of 10 artists>"
      ]
     },
     "execution_count": 20,
     "metadata": {},
     "output_type": "execute_result"
    },
    {
     "data": {
      "image/png": "[encoded data removed]",
      "text/plain": [
       "<Figure size 432x288 with 1 Axes>"
      ]
     },
     "metadata": {
      "needs_background": "light"
     },
     "output_type": "display_data"
    }
   ],
   "source": [
    "fig = plt.figure()\n",
    "ax = fig.add_axes([0,0,1,1])\n",
    "# X = np.arange(opPred.shape[0])\n",
    "X = np.arange(10)\n",
    "ax.bar(X + 0.00, opTest[0:10], color = 'g', width = 0.25)\n",
    "ax.bar(X + 0.25, opPred[0:10], color = 'r', width = 0.25)"
   ]
  },
  {
   "cell_type": "code",
   "execution_count": null,
   "metadata": {},
   "outputs": [],
   "source": []
  },
  {
   "cell_type": "code",
   "execution_count": null,
   "metadata": {},
   "outputs": [],
   "source": []
  }
 ],
 "metadata": {
  "kernelspec": {
   "display_name": "Python 2",
   "language": "python",
   "name": "python2"
  },
  "language_info": {
   "codemirror_mode": {
    "name": "ipython",
    "version": 2
   },
   "file_extension": ".py",
   "mimetype": "text/x-python",
   "name": "python",
   "nbconvert_exporter": "python",
   "pygments_lexer": "ipython2",
   "version": "2.7.16"
  }
 },
 "nbformat": 4,
 "nbformat_minor": 2
}
